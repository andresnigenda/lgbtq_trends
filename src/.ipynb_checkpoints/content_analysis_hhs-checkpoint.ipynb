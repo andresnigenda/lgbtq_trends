{
 "cells": [
  {
   "cell_type": "markdown",
   "metadata": {},
   "source": [
    "# Sunlight Foundation | Term Search\n",
    "\n",
    "1. [Content Analysis](#section_1)\n",
    "  1. Defining terms\n",
    "  2. Getting counts\n",
    "  3. Analyzing results\n",
    "\n"
   ]
  },
  {
   "cell_type": "code",
   "execution_count": 31,
   "metadata": {},
   "outputs": [
    {
     "name": "stdout",
     "output_type": "stream",
     "text": [
      "The autoreload extension is already loaded. To reload it, use:\n",
      "  %reload_ext autoreload\n"
     ]
    }
   ],
   "source": [
    "# run this to import all of the packages\n",
    "import scripts.get_content as gc\n",
    "import scripts.analysis as a\n",
    "import pandas as pd\n",
    "import numpy as np\n",
    "import nltk\n",
    "import csv\n",
    "\n",
    "%load_ext autoreload\n",
    "%autoreload 2"
   ]
  },
  {
   "cell_type": "markdown",
   "metadata": {},
   "source": [
    "<a id='section_2'></a>\n",
    "## 1. Content Analysis"
   ]
  },
  {
   "cell_type": "markdown",
   "metadata": {},
   "source": [
    "#### A. Term definition\n",
    "\n",
    "Uniquely define your terms here as \"one word terms\" (e.g. ['cat', 'dog']) and as \"multi word terms\" (e.g. [['black', 'dog'], ['white', 'fat', 'cat']]). Include any desired control terms in the aforementioned lists, and also add them in the \"control terms\" list."
   ]
  },
  {
   "cell_type": "code",
   "execution_count": 7,
   "metadata": {},
   "outputs": [],
   "source": [
    "one_word_terms = [\n",
    "'abortion',\n",
    "'abortions',\n",
    "'abstinence',\n",
    "'condom',\n",
    "'contraception',\n",
    "'contraceptive',\n",
    "'contraceptives',\n",
    "'counseling',\n",
    "'intercourse',\n",
    "'IUD',\n",
    "'Levonorgestrel',\n",
    "'LGBT',\n",
    "'LGBTQ',\n",
    "'pill',\n",
    "'plan b',\n",
    "'pregnancies',\n",
    "'pregnancy',\n",
    "'pregnant',\n",
    "'sex',\n",
    "'termination'\n",
    "                 ]\n",
    "multi_word_terms =  [\n",
    "['abortion', 'counseling'],\n",
    "['abstinence', 'only'],\n",
    "['contraceptive','education'],\n",
    "['contraceptive','pill'],\n",
    "['emergency',' contraception'],\n",
    "['encourage','abstinence'],\n",
    "['evidence','based'],\n",
    "['intrauterine','device'],\n",
    "['pregnancy','center'],\n",
    "['pregnancy','centers'],\n",
    "['pregnancy','prevention'],\n",
    "['reproductive','health'],\n",
    "['safe','sex'],\n",
    "['safer','sex'],\n",
    "['sex,','ed'],\n",
    "['sex','education'],\n",
    "['sex','health'],\n",
    "['sexual','education'],\n",
    "['sexual','health'],\n",
    "['sexual','relations'],\n",
    "['sexual','relationship'],\n",
    "['sexual','relationships'],\n",
    "['unwanted','pregnancy'],\n",
    "['womens','health']\n",
    "]\n",
    "\n",
    "control_terms = ['pizza', 'until'] \n",
    "# two_word_terms.sort(key=lambda x: x[0])"
   ]
  },
  {
   "cell_type": "markdown",
   "metadata": {},
   "source": [
    "#### B. Getting counts\n",
    "\n",
    "This function gets the total number of times that each term appeared in the visible body of text in the set of analyzed urls for two timeframes (pre and post). It will also try to save each url to the wayback machine as you go."
   ]
  },
  {
   "cell_type": "code",
   "execution_count": null,
   "metadata": {
    "scrolled": true
   },
   "outputs": [],
   "source": [
    "terms = one_word_terms + multi_word_terms\n",
    "dates_pre = [2013, 1, 20, 2017, 1, 19] # timeframe pre to fetch wayback\n",
    "dates_post = [2017, 1, 20, 2019, 8, 8] # timeframe post to fetch wayback\n",
    "output_name = 'counts_hhs' # your output will have this name root\n",
    "gc.get_output('inputs/hhslinks_final.csv', output_name, terms, dates_pre, dates_post, store_text=True)"
   ]
  },
  {
   "cell_type": "markdown",
   "metadata": {},
   "source": [
    "#### C. Analyzing results"
   ]
  },
  {
   "cell_type": "code",
   "execution_count": 9,
   "metadata": {
    "scrolled": true
   },
   "outputs": [
    {
     "name": "stdout",
     "output_type": "stream",
     "text": [
      "The relative number of terms changed -0.77 %, from 0.001 to 0.001\n",
      "The absolute number of terms changed -2.75 %, from 1600 to 1556\n"
     ]
    }
   ],
   "source": [
    "department_path = None #if you have a department name or office name by id in a csv, add here\n",
    "df_pre_merged, df_post_merged, col_names = a.get_final_df(department_path, multi_word_terms, one_word_terms, output_name)\n",
    "inconsistencies = [] # if you identify any ids that should be excluded, add them here as integers\n",
    "df_pre_merged = df_pre_merged[~df_pre_merged.id.isin(inconsistencies)]\n",
    "df_post_merged = df_post_merged[~df_post_merged.id.isin(inconsistencies)]\n",
    "rel_changes, rel_pre, rel_post = a.get_changes(df_pre_merged, df_post_merged, 'id', col_names, 'ttal', pctg=True)\n",
    "abs_changes = a.get_changes(df_pre_merged, df_post_merged, 'id', col_names, 'ttal', pctg=False)\n",
    "# uncomment to check relative frequencies\n",
    "#rel_pre.sort_values()\n",
    "#rel_post.sort_values()"
   ]
  },
  {
   "cell_type": "code",
   "execution_count": 11,
   "metadata": {},
   "outputs": [
    {
     "data": {
      "text/html": [
       "<table style=\"display:inline\" border=\"1\" class=\"dataframe\">\n",
       "  <thead>\n",
       "    <tr style=\"text-align: right;\">\n",
       "      <th></th>\n",
       "      <th>term</th>\n",
       "      <th>change</th>\n",
       "    </tr>\n",
       "  </thead>\n",
       "  <tbody>\n",
       "    <tr>\n",
       "      <th>0</th>\n",
       "      <td>contraceptive</td>\n",
       "      <td>-16.43</td>\n",
       "    </tr>\n",
       "    <tr>\n",
       "      <th>1</th>\n",
       "      <td>pregnant</td>\n",
       "      <td>-9.47</td>\n",
       "    </tr>\n",
       "    <tr>\n",
       "      <th>2</th>\n",
       "      <td>evidence based</td>\n",
       "      <td>-7.24</td>\n",
       "    </tr>\n",
       "    <tr>\n",
       "      <th>3</th>\n",
       "      <td>LGBT</td>\n",
       "      <td>-3.32</td>\n",
       "    </tr>\n",
       "    <tr>\n",
       "      <th>4</th>\n",
       "      <td>termination</td>\n",
       "      <td>-2.92</td>\n",
       "    </tr>\n",
       "    <tr>\n",
       "      <th>5</th>\n",
       "      <td>contraception</td>\n",
       "      <td>-2.22</td>\n",
       "    </tr>\n",
       "    <tr>\n",
       "      <th>6</th>\n",
       "      <td>pregnancies</td>\n",
       "      <td>2.04</td>\n",
       "    </tr>\n",
       "    <tr>\n",
       "      <th>7</th>\n",
       "      <td>contraceptives</td>\n",
       "      <td>2.04</td>\n",
       "    </tr>\n",
       "    <tr>\n",
       "      <th>8</th>\n",
       "      <td>IUD</td>\n",
       "      <td>2.04</td>\n",
       "    </tr>\n",
       "    <tr>\n",
       "      <th>9</th>\n",
       "      <td>sexual education</td>\n",
       "      <td>2.04</td>\n",
       "    </tr>\n",
       "    <tr>\n",
       "      <th>10</th>\n",
       "      <td>LGBTQ</td>\n",
       "      <td>2.04</td>\n",
       "    </tr>\n",
       "    <tr>\n",
       "      <th>11</th>\n",
       "      <td>pill</td>\n",
       "      <td>2.04</td>\n",
       "    </tr>\n",
       "    <tr>\n",
       "      <th>12</th>\n",
       "      <td>intercourse</td>\n",
       "      <td>2.04</td>\n",
       "    </tr>\n",
       "    <tr>\n",
       "      <th>13</th>\n",
       "      <td>intrauterine device</td>\n",
       "      <td>2.04</td>\n",
       "    </tr>\n",
       "    <tr>\n",
       "      <th>14</th>\n",
       "      <td>pregnancy</td>\n",
       "      <td>2.52</td>\n",
       "    </tr>\n",
       "    <tr>\n",
       "      <th>15</th>\n",
       "      <td>sex</td>\n",
       "      <td>2.83</td>\n",
       "    </tr>\n",
       "    <tr>\n",
       "      <th>16</th>\n",
       "      <td>counseling</td>\n",
       "      <td>3.67</td>\n",
       "    </tr>\n",
       "    <tr>\n",
       "      <th>17</th>\n",
       "      <td>abortion</td>\n",
       "      <td>7.27</td>\n",
       "    </tr>\n",
       "    <tr>\n",
       "      <th>18</th>\n",
       "      <td>reproductive health</td>\n",
       "      <td>9.59</td>\n",
       "    </tr>\n",
       "    <tr>\n",
       "      <th>19</th>\n",
       "      <td>pregnancy prevention</td>\n",
       "      <td>10.91</td>\n",
       "    </tr>\n",
       "    <tr>\n",
       "      <th>20</th>\n",
       "      <td>condom</td>\n",
       "      <td>33.43</td>\n",
       "    </tr>\n",
       "    <tr>\n",
       "      <th>21</th>\n",
       "      <td>abortions</td>\n",
       "      <td>36.05</td>\n",
       "    </tr>\n",
       "    <tr>\n",
       "      <th>22</th>\n",
       "      <td>abstinence</td>\n",
       "      <td>36.05</td>\n",
       "    </tr>\n",
       "    <tr>\n",
       "      <th>23</th>\n",
       "      <td>sexual health</td>\n",
       "      <td>70.06</td>\n",
       "    </tr>\n",
       "  </tbody>\n",
       "</table style=\"display:inline\"><table style=\"display:inline\" border=\"1\" class=\"dataframe\">\n",
       "  <thead>\n",
       "    <tr style=\"text-align: right;\">\n",
       "      <th></th>\n",
       "      <th>term</th>\n",
       "      <th>change</th>\n",
       "    </tr>\n",
       "  </thead>\n",
       "  <tbody>\n",
       "    <tr>\n",
       "      <th>0</th>\n",
       "      <td>pregnant</td>\n",
       "      <td>-23.00</td>\n",
       "    </tr>\n",
       "    <tr>\n",
       "      <th>1</th>\n",
       "      <td>contraceptive</td>\n",
       "      <td>-19.00</td>\n",
       "    </tr>\n",
       "    <tr>\n",
       "      <th>2</th>\n",
       "      <td>LGBT</td>\n",
       "      <td>-16.00</td>\n",
       "    </tr>\n",
       "    <tr>\n",
       "      <th>3</th>\n",
       "      <td>termination</td>\n",
       "      <td>-5.00</td>\n",
       "    </tr>\n",
       "    <tr>\n",
       "      <th>4</th>\n",
       "      <td>contraception</td>\n",
       "      <td>-2.00</td>\n",
       "    </tr>\n",
       "    <tr>\n",
       "      <th>5</th>\n",
       "      <td>evidence based</td>\n",
       "      <td>-2.00</td>\n",
       "    </tr>\n",
       "    <tr>\n",
       "      <th>34</th>\n",
       "      <td>pregnancy</td>\n",
       "      <td>1.00</td>\n",
       "    </tr>\n",
       "    <tr>\n",
       "      <th>35</th>\n",
       "      <td>abortions</td>\n",
       "      <td>1.00</td>\n",
       "    </tr>\n",
       "    <tr>\n",
       "      <th>36</th>\n",
       "      <td>reproductive health</td>\n",
       "      <td>2.00</td>\n",
       "    </tr>\n",
       "    <tr>\n",
       "      <th>37</th>\n",
       "      <td>sex</td>\n",
       "      <td>2.00</td>\n",
       "    </tr>\n",
       "    <tr>\n",
       "      <th>38</th>\n",
       "      <td>counseling</td>\n",
       "      <td>2.00</td>\n",
       "    </tr>\n",
       "    <tr>\n",
       "      <th>39</th>\n",
       "      <td>sexual health</td>\n",
       "      <td>2.00</td>\n",
       "    </tr>\n",
       "    <tr>\n",
       "      <th>40</th>\n",
       "      <td>abortion</td>\n",
       "      <td>2.00</td>\n",
       "    </tr>\n",
       "    <tr>\n",
       "      <th>41</th>\n",
       "      <td>abstinence</td>\n",
       "      <td>3.00</td>\n",
       "    </tr>\n",
       "    <tr>\n",
       "      <th>42</th>\n",
       "      <td>pregnancy prevention</td>\n",
       "      <td>4.00</td>\n",
       "    </tr>\n",
       "    <tr>\n",
       "      <th>43</th>\n",
       "      <td>condom</td>\n",
       "      <td>4.00</td>\n",
       "    </tr>\n",
       "  </tbody>\n",
       "</table style=\"display:inline\">"
      ]
     },
     "metadata": {},
     "output_type": "display_data"
    }
   ],
   "source": [
    "a.display_side_by_side(rel_changes, abs_changes)"
   ]
  },
  {
   "cell_type": "markdown",
   "metadata": {},
   "source": [
    "*Absolute changes*"
   ]
  },
  {
   "cell_type": "code",
   "execution_count": 12,
   "metadata": {},
   "outputs": [
    {
     "data": {
      "image/png": "[encoded data removed]",
      "text/plain": [
       "<Figure size 432x360 with 1 Axes>"
      ]
     },
     "metadata": {
      "needs_background": "light"
     },
     "output_type": "display_data"
    }
   ],
   "source": [
    "a.plot_bars(abs_changes, 'term', 'change')"
   ]
  },
  {
   "cell_type": "markdown",
   "metadata": {},
   "source": [
    "*Relative changes*\n"
   ]
  },
  {
   "cell_type": "code",
   "execution_count": 13,
   "metadata": {},
   "outputs": [
    {
     "data": {
      "image/png": "[encoded data removed]",
      "text/plain": [
       "<Figure size 432x360 with 1 Axes>"
      ]
     },
     "metadata": {
      "needs_background": "light"
     },
     "output_type": "display_data"
    }
   ],
   "source": [
    "a.plot_bars(rel_changes, 'term', 'change')"
   ]
  },
  {
   "cell_type": "markdown",
   "metadata": {},
   "source": [
    "*Changes by Department*"
   ]
  },
  {
   "cell_type": "code",
   "execution_count": 14,
   "metadata": {},
   "outputs": [],
   "source": [
    "# run this if you have different departments or a way to classify urls within the set\n",
    "#df = a.plot_dpt_changes(df_pre_merged, df_post_merged, col_names, control_terms)"
   ]
  },
  {
   "cell_type": "markdown",
   "metadata": {},
   "source": [
    "*Absolute Changes in Terms by Department*\n",
    "\n",
    "Plots of the absolute changes by department with most changes."
   ]
  },
  {
   "cell_type": "code",
   "execution_count": 16,
   "metadata": {},
   "outputs": [
    {
     "name": "stdout",
     "output_type": "stream",
     "text": [
      "number of rows 0\n"
     ]
    },
    {
     "data": {
      "text/plain": [
       "<Figure size 432x288 with 0 Axes>"
      ]
     },
     "metadata": {},
     "output_type": "display_data"
    }
   ],
   "source": [
    "department_list = []\n",
    "a.plot_changes_dept(df_pre_merged, df_post_merged, col_names, department_list)"
   ]
  },
  {
   "cell_type": "markdown",
   "metadata": {},
   "source": [
    "Some sanity checking functions to check for any potential text discrepancies\n",
    "\n",
    "Note. Avoid using iterrows!"
   ]
  },
  {
   "cell_type": "code",
   "execution_count": 23,
   "metadata": {},
   "outputs": [],
   "source": [
    "for index, row in df_pre_merged.iterrows():\n",
    "    try:\n",
    "        if len(row.text) < 2:\n",
    "            print('*******')\n",
    "            print(row.id, row.url)\n",
    "            print(row.text)\n",
    "            print('*******')\n",
    "    except Exception as e:\n",
    "        print(e)"
   ]
  },
  {
   "cell_type": "code",
   "execution_count": 24,
   "metadata": {},
   "outputs": [
    {
     "name": "stdout",
     "output_type": "stream",
     "text": [
      "object of type 'NoneType' has no len()\n",
      "object of type 'NoneType' has no len()\n",
      "object of type 'NoneType' has no len()\n",
      "object of type 'NoneType' has no len()\n",
      "object of type 'NoneType' has no len()\n",
      "object of type 'NoneType' has no len()\n",
      "object of type 'NoneType' has no len()\n",
      "object of type 'NoneType' has no len()\n",
      "object of type 'NoneType' has no len()\n",
      "object of type 'NoneType' has no len()\n"
     ]
    }
   ],
   "source": [
    "for index, row in df_post_merged.iterrows():\n",
    "    try:\n",
    "        if len(row.text) < 2:\n",
    "            print('*******')\n",
    "            print(row.id, row.url)\n",
    "            print(row.text)\n",
    "            print('*******')\n",
    "    except Exception as e:\n",
    "        print(e)"
   ]
  },
  {
   "cell_type": "code",
   "execution_count": 26,
   "metadata": {},
   "outputs": [
    {
     "data": {
      "text/html": [
       "<div>\n",
       "<style scoped>\n",
       "    .dataframe tbody tr th:only-of-type {\n",
       "        vertical-align: middle;\n",
       "    }\n",
       "\n",
       "    .dataframe tbody tr th {\n",
       "        vertical-align: top;\n",
       "    }\n",
       "\n",
       "    .dataframe thead th {\n",
       "        text-align: right;\n",
       "    }\n",
       "</style>\n",
       "<table border=\"1\" class=\"dataframe\">\n",
       "  <thead>\n",
       "    <tr style=\"text-align: right;\">\n",
       "      <th></th>\n",
       "      <th>abortion</th>\n",
       "      <th>abortions</th>\n",
       "      <th>abstinence</th>\n",
       "      <th>condom</th>\n",
       "      <th>contraception</th>\n",
       "      <th>contraceptive</th>\n",
       "      <th>contraceptives</th>\n",
       "      <th>counseling</th>\n",
       "      <th>intercourse</th>\n",
       "      <th>IUD</th>\n",
       "      <th>...</th>\n",
       "      <th>sexual relationship</th>\n",
       "      <th>sexual relationships</th>\n",
       "      <th>unwanted pregnancy</th>\n",
       "      <th>womens health</th>\n",
       "      <th>id</th>\n",
       "      <th>ttal</th>\n",
       "      <th>dates</th>\n",
       "      <th>text</th>\n",
       "      <th>url</th>\n",
       "      <th>results</th>\n",
       "    </tr>\n",
       "  </thead>\n",
       "  <tbody>\n",
       "  </tbody>\n",
       "</table>\n",
       "<p>0 rows × 50 columns</p>\n",
       "</div>"
      ],
      "text/plain": [
       "Empty DataFrame\n",
       "Columns: [abortion, abortions, abstinence, condom, contraception, contraceptive, contraceptives, counseling, intercourse, IUD, Levonorgestrel, LGBT, LGBTQ, pill, plan b, pregnancies, pregnancy, pregnant, sex, termination, abortion counseling, abstinence only, contraceptive education, contraceptive pill, emergency  contraception, encourage abstinence, evidence based, intrauterine device, pregnancy center, pregnancy centers, pregnancy prevention, reproductive health, safe sex, safer sex, sex, ed, sex education, sex health, sexual education, sexual health, sexual relations, sexual relationship, sexual relationships, unwanted pregnancy, womens health, id, ttal, dates, text, url, results]\n",
       "Index: []\n",
       "\n",
       "[0 rows x 50 columns]"
      ]
     },
     "execution_count": 26,
     "metadata": {},
     "output_type": "execute_result"
    }
   ],
   "source": [
    "#check for duplicates\n",
    "df_post_merged[df_post_merged.duplicated(subset=['id'])]"
   ]
  },
  {
   "cell_type": "code",
   "execution_count": 30,
   "metadata": {},
   "outputs": [],
   "source": [
    "#run this to save post results\n",
    "df_post_merged.to_csv('outputs/dataset_pre_{}.csv'.format(output_name))"
   ]
  },
  {
   "cell_type": "code",
   "execution_count": null,
   "metadata": {},
   "outputs": [],
   "source": [
    "#run this to save pre results\n",
    "df_pre_merged.to_csv('outputs/dataset_post_{}.csv'.format(output_name))"
   ]
  }
 ],
 "metadata": {
  "kernelspec": {
   "display_name": "Python 3",
   "language": "python",
   "name": "python3"
  },
  "language_info": {
   "codemirror_mode": {
    "name": "ipython",
    "version": 3
   },
   "file_extension": ".py",
   "mimetype": "text/x-python",
   "name": "python",
   "nbconvert_exporter": "python",
   "pygments_lexer": "ipython3",
   "version": "3.7.3"
  }
 },
 "nbformat": 4,
 "nbformat_minor": 2
}
